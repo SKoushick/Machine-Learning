{
 "cells": [
  {
   "cell_type": "markdown",
   "id": "280ba5af",
   "metadata": {},
   "source": [
    "Numpy basics"
   ]
  },
  {
   "cell_type": "code",
   "execution_count": 2,
   "id": "61e26223",
   "metadata": {},
   "outputs": [],
   "source": [
    "import numpy as np"
   ]
  },
  {
   "cell_type": "code",
   "execution_count": 3,
   "id": "6c492711",
   "metadata": {},
   "outputs": [
    {
     "name": "stdout",
     "output_type": "stream",
     "text": [
      "[ 1  2 34  5]\n"
     ]
    }
   ],
   "source": [
    "print(np.array([1,2,34,5]))"
   ]
  },
  {
   "cell_type": "code",
   "execution_count": 4,
   "id": "6717d0d1",
   "metadata": {},
   "outputs": [
    {
     "name": "stdout",
     "output_type": "stream",
     "text": [
      "[1, 2, 3, 4, 5]\n"
     ]
    }
   ],
   "source": [
    "lst=[1,2,3,4,5]\n",
    "print(lst)\n"
   ]
  },
  {
   "cell_type": "markdown",
   "id": "1d67d2d2",
   "metadata": {},
   "source": [
    "1D Array"
   ]
  },
  {
   "cell_type": "code",
   "execution_count": 5,
   "id": "583e33c1",
   "metadata": {},
   "outputs": [
    {
     "name": "stdout",
     "output_type": "stream",
     "text": [
      "[1 2 3 4 5]\n"
     ]
    }
   ],
   "source": [
    "nar=np.array([1,2,3,4,5])\n",
    "print(nar)"
   ]
  },
  {
   "cell_type": "markdown",
   "id": "dea95913",
   "metadata": {},
   "source": [
    "2D Array"
   ]
  },
  {
   "cell_type": "code",
   "execution_count": 6,
   "id": "7e34c907",
   "metadata": {},
   "outputs": [
    {
     "name": "stdout",
     "output_type": "stream",
     "text": [
      "[[ 1  2  3  4  5]\n",
      " [ 6  7  8  9 10]]\n"
     ]
    }
   ],
   "source": [
    "n2ar=np.array([[1,2,3,4,5],\n",
    "               [6,7,8,9,10]])\n",
    "print(n2ar)"
   ]
  },
  {
   "cell_type": "markdown",
   "id": "e74de8d5",
   "metadata": {},
   "source": [
    "3D Array"
   ]
  },
  {
   "cell_type": "code",
   "execution_count": 7,
   "id": "3281d0e1",
   "metadata": {},
   "outputs": [
    {
     "name": "stdout",
     "output_type": "stream",
     "text": [
      "[[[ 1  2  3  4  5]\n",
      "  [ 6  7  8  9 10]\n",
      "  [11 12 13 14 15]]]\n"
     ]
    }
   ],
   "source": [
    "N3ar=np.array([[[1,2,3,4,5],\n",
    "               [6,7,8,9,10],\n",
    "               [11,12,13,14,15]\n",
    "               ]])\n",
    "print(N3ar)"
   ]
  },
  {
   "cell_type": "markdown",
   "id": "87bbea56",
   "metadata": {},
   "source": [
    "Type(),Size()"
   ]
  },
  {
   "cell_type": "code",
   "execution_count": 8,
   "id": "c1a2e7e0",
   "metadata": {},
   "outputs": [
    {
     "name": "stdout",
     "output_type": "stream",
     "text": [
      "5\n",
      "10\n",
      "15\n"
     ]
    }
   ],
   "source": [
    "type(nar)\n",
    "type(n2ar)\n",
    "type(N3ar)\n",
    "print(nar.size)\n",
    "print(n2ar.size)\n",
    "print(N3ar.size)"
   ]
  },
  {
   "cell_type": "markdown",
   "id": "06491d74",
   "metadata": {},
   "source": [
    "Shape(),Dtype()"
   ]
  },
  {
   "cell_type": "code",
   "execution_count": 9,
   "id": "50654503",
   "metadata": {},
   "outputs": [
    {
     "name": "stdout",
     "output_type": "stream",
     "text": [
      "(5,)\n",
      "(2, 5)\n",
      "(1, 3, 5)\n",
      "float64\n"
     ]
    }
   ],
   "source": [
    "#shape\n",
    "\n",
    "print(nar.shape)\n",
    "print(n2ar.shape)\n",
    "print(N3ar.shape)\n",
    "\n",
    "# dtype\n",
    "d=np.array([[1,2,3,4,5],\n",
    "            [6,7,8,9.0,10],\n",
    "            [11,12,13,14,15]])\n",
    "print(d.dtype)"
   ]
  },
  {
   "cell_type": "code",
   "execution_count": 10,
   "id": "6d1e1462",
   "metadata": {},
   "outputs": [
    {
     "data": {
      "text/plain": [
       "array([[ 1.,  6., 11.],\n",
       "       [ 2.,  7., 12.],\n",
       "       [ 3.,  8., 13.],\n",
       "       [ 4.,  9., 14.],\n",
       "       [ 5., 10., 15.]])"
      ]
     },
     "execution_count": 10,
     "metadata": {},
     "output_type": "execute_result"
    }
   ],
   "source": [
    "d.transpose()"
   ]
  },
  {
   "cell_type": "code",
   "execution_count": 11,
   "id": "fa0152d1",
   "metadata": {},
   "outputs": [],
   "source": [
    "#Empty() - this will randomly create a array with values of 0 "
   ]
  },
  {
   "cell_type": "code",
   "execution_count": 12,
   "id": "8092be3a",
   "metadata": {},
   "outputs": [
    {
     "data": {
      "text/plain": [
       "array([[0.00000000e+000, 0.00000000e+000, 0.00000000e+000],\n",
       "       [0.00000000e+000, 0.00000000e+000, 7.80623720e-321],\n",
       "       [1.00132822e-307, 2.00485144e-307, 0.00000000e+000]])"
      ]
     },
     "execution_count": 12,
     "metadata": {},
     "output_type": "execute_result"
    }
   ],
   "source": [
    "np.empty((3,3),dtype=int)\n",
    "np.empty((3,3),dtype=float)"
   ]
  },
  {
   "cell_type": "code",
   "execution_count": 13,
   "id": "595e8964",
   "metadata": {},
   "outputs": [],
   "source": [
    "#Ones() - this will create a array with the values of 1"
   ]
  },
  {
   "cell_type": "code",
   "execution_count": 14,
   "id": "8b043663",
   "metadata": {},
   "outputs": [
    {
     "name": "stdout",
     "output_type": "stream",
     "text": [
      "[[1 1 1 1]\n",
      " [1 1 1 1]\n",
      " [1 1 1 1]]\n",
      "[[ True  True  True  True]\n",
      " [ True  True  True  True]\n",
      " [ True  True  True  True]]\n",
      "[['1' '1' '1' '1']\n",
      " ['1' '1' '1' '1']\n",
      " ['1' '1' '1' '1']]\n"
     ]
    }
   ],
   "source": [
    "x=np.ones((3,4))\n",
    "x=np.ones((3,4),dtype=int)\n",
    "print(x)\n",
    "x=np.ones((3,4),dtype=bool)\n",
    "print(x)\n",
    "x=np.ones((3,4),dtype=str)\n",
    "print(x)"
   ]
  },
  {
   "cell_type": "code",
   "execution_count": 15,
   "id": "6964a1eb",
   "metadata": {},
   "outputs": [],
   "source": [
    "#Zeros"
   ]
  },
  {
   "cell_type": "code",
   "execution_count": 16,
   "id": "efec209e",
   "metadata": {},
   "outputs": [
    {
     "name": "stdout",
     "output_type": "stream",
     "text": [
      "[[0. 0. 0.]\n",
      " [0. 0. 0.]\n",
      " [0. 0. 0.]]\n",
      "[[0 0 0 0]\n",
      " [0 0 0 0]\n",
      " [0 0 0 0]]\n",
      "[['' '' '' '']\n",
      " ['' '' '' '']\n",
      " ['' '' '' '']]\n",
      "[[False False False False]\n",
      " [False False False False]\n",
      " [False False False False]]\n"
     ]
    }
   ],
   "source": [
    "y= np.zeros((3,3))\n",
    "print(y)\n",
    "y=np.zeros((3,4),dtype=int)\n",
    "print(y)\n",
    "y=np.zeros((3,4),dtype=str)\n",
    "print(y)\n",
    "y=np.zeros((3,4),dtype=bool)\n",
    "print(y)"
   ]
  },
  {
   "cell_type": "code",
   "execution_count": 17,
   "id": "f4fee972",
   "metadata": {},
   "outputs": [],
   "source": [
    "#arange\n"
   ]
  },
  {
   "cell_type": "code",
   "execution_count": 18,
   "id": "88d1e396",
   "metadata": {},
   "outputs": [
    {
     "name": "stdout",
     "output_type": "stream",
     "text": [
      "[ 1  3  5  7  9 11 13 15 17 19]\n",
      "[ 2  4  6  8 10 12 14 16 18]\n"
     ]
    }
   ],
   "source": [
    "b=np.arange(1,20,2)\n",
    "print(b)\n",
    "\n",
    "a=np.arange(2,20,2)\n",
    "print(a)"
   ]
  },
  {
   "cell_type": "code",
   "execution_count": 19,
   "id": "f3d535c1",
   "metadata": {},
   "outputs": [],
   "source": [
    "#reshape"
   ]
  },
  {
   "cell_type": "code",
   "execution_count": 20,
   "id": "c8b03305",
   "metadata": {},
   "outputs": [
    {
     "name": "stdout",
     "output_type": "stream",
     "text": [
      "[[ 2  4  6]\n",
      " [ 8 10 12]\n",
      " [14 16 18]]\n",
      "[[ 1  3  5  7  9]\n",
      " [11 13 15 17 19]]\n"
     ]
    }
   ],
   "source": [
    "a=a.reshape(3,3)\n",
    "print(a)\n",
    "print(b.reshape(2,5))"
   ]
  },
  {
   "cell_type": "code",
   "execution_count": 21,
   "id": "2f0c2daf",
   "metadata": {},
   "outputs": [
    {
     "data": {
      "text/plain": [
       "array([  1,  11,  21,  31,  41,  51,  61,  71,  81,  91, 101, 111, 121,\n",
       "       131, 141, 151, 161, 171, 181, 191, 201, 211, 221, 231, 241, 251,\n",
       "       261, 271, 281, 291, 301, 311, 321, 331, 341, 351, 361, 371, 381,\n",
       "       391, 401, 411, 421, 431, 441, 451, 461, 471, 481, 491, 501, 511,\n",
       "       521, 531, 541, 551, 561, 571, 581, 591, 601, 611, 621, 631, 641,\n",
       "       651, 661, 671, 681, 691, 701, 711, 721, 731, 741, 751, 761, 771,\n",
       "       781, 791, 801, 811, 821, 831, 841, 851, 861, 871, 881, 891, 901,\n",
       "       911, 921, 931, 941, 951, 961, 971, 981, 991])"
      ]
     },
     "execution_count": 21,
     "metadata": {},
     "output_type": "execute_result"
    }
   ],
   "source": [
    "c=np.arange(1,1000,10)\n",
    "c"
   ]
  },
  {
   "cell_type": "code",
   "execution_count": 22,
   "id": "0b62eaec",
   "metadata": {},
   "outputs": [
    {
     "name": "stdout",
     "output_type": "stream",
     "text": [
      "[[  1  11  21  31  41  51  61  71  81  91]\n",
      " [101 111 121 131 141 151 161 171 181 191]\n",
      " [201 211 221 231 241 251 261 271 281 291]\n",
      " [301 311 321 331 341 351 361 371 381 391]\n",
      " [401 411 421 431 441 451 461 471 481 491]\n",
      " [501 511 521 531 541 551 561 571 581 591]\n",
      " [601 611 621 631 641 651 661 671 681 691]\n",
      " [701 711 721 731 741 751 761 771 781 791]\n",
      " [801 811 821 831 841 851 861 871 881 891]\n",
      " [901 911 921 931 941 951 961 971 981 991]]\n"
     ]
    }
   ],
   "source": [
    "print(c.reshape(10,10))"
   ]
  },
  {
   "cell_type": "code",
   "execution_count": 23,
   "id": "c4dc7da9",
   "metadata": {},
   "outputs": [
    {
     "name": "stdout",
     "output_type": "stream",
     "text": [
      "[  1  11  21  31  41  51  61  71  81  91 101 111 121 131 141 151 161 171\n",
      " 181 191 201 211 221 231 241 251 261 271 281 291 301 311 321 331 341 351\n",
      " 361 371 381 391 401 411 421 431 441 451 461 471 481 491 501 511 521 531\n",
      " 541 551 561 571 581 591 601 611 621 631 641 651 661 671 681 691 701 711\n",
      " 721 731 741 751 761 771 781 791 801 811 821 831 841 851 861 871 881 891\n",
      " 901 911 921 931 941 951 961 971 981 991]\n"
     ]
    }
   ],
   "source": [
    "b=c.flatten()\n",
    "print(b)"
   ]
  },
  {
   "cell_type": "code",
   "execution_count": 24,
   "id": "23dfce40",
   "metadata": {},
   "outputs": [
    {
     "name": "stdout",
     "output_type": "stream",
     "text": [
      "[ 2  4  6  8 10 12 14 16 18]\n"
     ]
    }
   ],
   "source": [
    "print(a.ravel())"
   ]
  },
  {
   "cell_type": "markdown",
   "id": "c2bc80d1",
   "metadata": {},
   "source": [
    "a.ravel(): (i) Return only reference/view of original array (ii) If you modify the array you would notice that the value of original\n",
    "array also changes. (iii) Ravel is faster than flatten() as it does not occupy any memory. (iv) Ravel is a library-level function.\n",
    "\n",
    "a.flatten() : (i) Return copy of original array (ii) If you modify any value of this array value of original array is not affected. (iii)\n",
    "Flatten() is comparatively slower than ravel() as it occupies memory. (iv) Flatten is a method of an ndarray object."
   ]
  },
  {
   "cell_type": "code",
   "execution_count": 25,
   "id": "635c3b01",
   "metadata": {},
   "outputs": [
    {
     "data": {
      "text/plain": [
       "array([[ 1,  2,  3,  4,  5],\n",
       "       [ 6,  7,  8,  9, 10],\n",
       "       [11, 12, 13, 14, 15],\n",
       "       [16, 17, 18, 19, 20],\n",
       "       [21, 22, 23, 24, 25],\n",
       "       [26, 27, 28, 29, 30],\n",
       "       [31, 32, 33, 34, 35],\n",
       "       [36, 37, 38, 39, 40],\n",
       "       [41, 42, 43, 44, 45],\n",
       "       [46, 47, 48, 49, 50]])"
      ]
     },
     "execution_count": 25,
     "metadata": {},
     "output_type": "execute_result"
    }
   ],
   "source": [
    "a=np.arange(1,51)\n",
    "a=a.reshape(10,5)\n",
    "a"
   ]
  },
  {
   "cell_type": "code",
   "execution_count": 26,
   "id": "c12e3449",
   "metadata": {},
   "outputs": [
    {
     "data": {
      "text/plain": [
       "array([1, 2, 3, 4, 5])"
      ]
     },
     "execution_count": 26,
     "metadata": {},
     "output_type": "execute_result"
    }
   ],
   "source": [
    "a[0]\n"
   ]
  },
  {
   "cell_type": "code",
   "execution_count": 27,
   "id": "d2786c35",
   "metadata": {},
   "outputs": [
    {
     "data": {
      "text/plain": [
       "np.int64(1)"
      ]
     },
     "execution_count": 27,
     "metadata": {},
     "output_type": "execute_result"
    }
   ],
   "source": [
    "a[0,0]"
   ]
  },
  {
   "cell_type": "code",
   "execution_count": 28,
   "id": "0fb3c381",
   "metadata": {},
   "outputs": [
    {
     "data": {
      "text/plain": [
       "np.int64(2)"
      ]
     },
     "execution_count": 28,
     "metadata": {},
     "output_type": "execute_result"
    }
   ],
   "source": [
    "a[0,1]"
   ]
  },
  {
   "cell_type": "code",
   "execution_count": 29,
   "id": "ef0eb98c",
   "metadata": {},
   "outputs": [
    {
     "data": {
      "text/plain": [
       "array([[11, 12, 13, 14, 15],\n",
       "       [16, 17, 18, 19, 20],\n",
       "       [21, 22, 23, 24, 25],\n",
       "       [26, 27, 28, 29, 30]])"
      ]
     },
     "execution_count": 29,
     "metadata": {},
     "output_type": "execute_result"
    }
   ],
   "source": [
    "a[2:6]"
   ]
  },
  {
   "cell_type": "code",
   "execution_count": 30,
   "id": "b209fcf1",
   "metadata": {},
   "outputs": [
    {
     "data": {
      "text/plain": [
       "array([[ 1,  2,  3,  4,  5],\n",
       "       [11, 12, 13, 14, 15],\n",
       "       [21, 22, 23, 24, 25],\n",
       "       [31, 32, 33, 34, 35],\n",
       "       [41, 42, 43, 44, 45]])"
      ]
     },
     "execution_count": 30,
     "metadata": {},
     "output_type": "execute_result"
    }
   ],
   "source": [
    "a[0:9:2]"
   ]
  },
  {
   "cell_type": "code",
   "execution_count": 31,
   "id": "7403eb8b",
   "metadata": {},
   "outputs": [
    {
     "data": {
      "text/plain": [
       "array([[ 8,  9, 10],\n",
       "       [13, 14, 15],\n",
       "       [18, 19, 20],\n",
       "       [23, 24, 25]])"
      ]
     },
     "execution_count": 31,
     "metadata": {},
     "output_type": "execute_result"
    }
   ],
   "source": [
    "a[1:5,2:5]"
   ]
  },
  {
   "cell_type": "code",
   "execution_count": 32,
   "id": "2c49fae0",
   "metadata": {},
   "outputs": [],
   "source": [
    "# a[Row Values (0,n):(0,n):(0,n)  ,  Col Values (0,n):(0,n):(0,n) ]"
   ]
  },
  {
   "cell_type": "code",
   "execution_count": 33,
   "id": "bd89c93f",
   "metadata": {},
   "outputs": [
    {
     "name": "stdout",
     "output_type": "stream",
     "text": [
      "[[ 0  1  2]\n",
      " [ 3  4  5]\n",
      " [ 6  7  8]\n",
      " [ 9 10 11]\n",
      " [12 13 14]\n",
      " [15 16 17]]\n",
      "[[20 21 22]\n",
      " [23 24 25]\n",
      " [26 27 28]\n",
      " [29 30 31]\n",
      " [32 33 34]\n",
      " [35 36 37]]\n"
     ]
    }
   ],
   "source": [
    "a=np.arange(0,18).reshape((6,3))\n",
    "b=np.arange(20,38).reshape((6,3))\n",
    "print(a)\n",
    "print(b)"
   ]
  },
  {
   "cell_type": "markdown",
   "id": "b0f30b46",
   "metadata": {},
   "source": [
    "# Mathematical Funstions "
   ]
  },
  {
   "cell_type": "code",
   "execution_count": 34,
   "id": "179761a8",
   "metadata": {},
   "outputs": [
    {
     "data": {
      "text/plain": [
       "array([[20, 22, 24],\n",
       "       [26, 28, 30],\n",
       "       [32, 34, 36],\n",
       "       [38, 40, 42],\n",
       "       [44, 46, 48],\n",
       "       [50, 52, 54]])"
      ]
     },
     "execution_count": 34,
     "metadata": {},
     "output_type": "execute_result"
    }
   ],
   "source": [
    "np.add(a,b)"
   ]
  },
  {
   "cell_type": "code",
   "execution_count": 35,
   "id": "90a19e96",
   "metadata": {},
   "outputs": [
    {
     "data": {
      "text/plain": [
       "array([[-20, -20, -20],\n",
       "       [-20, -20, -20],\n",
       "       [-20, -20, -20],\n",
       "       [-20, -20, -20],\n",
       "       [-20, -20, -20],\n",
       "       [-20, -20, -20]])"
      ]
     },
     "execution_count": 35,
     "metadata": {},
     "output_type": "execute_result"
    }
   ],
   "source": [
    "np.subtract(a,b)"
   ]
  },
  {
   "cell_type": "code",
   "execution_count": 36,
   "id": "aab847f0",
   "metadata": {},
   "outputs": [
    {
     "data": {
      "text/plain": [
       "array([[  0,  21,  44],\n",
       "       [ 69,  96, 125],\n",
       "       [156, 189, 224],\n",
       "       [261, 300, 341],\n",
       "       [384, 429, 476],\n",
       "       [525, 576, 629]])"
      ]
     },
     "execution_count": 36,
     "metadata": {},
     "output_type": "execute_result"
    }
   ],
   "source": [
    "np.multiply(a,b)"
   ]
  },
  {
   "cell_type": "code",
   "execution_count": 37,
   "id": "62ef12a7",
   "metadata": {},
   "outputs": [
    {
     "data": {
      "text/plain": [
       "array([[0.        , 0.04761905, 0.09090909],\n",
       "       [0.13043478, 0.16666667, 0.2       ],\n",
       "       [0.23076923, 0.25925926, 0.28571429],\n",
       "       [0.31034483, 0.33333333, 0.35483871],\n",
       "       [0.375     , 0.39393939, 0.41176471],\n",
       "       [0.42857143, 0.44444444, 0.45945946]])"
      ]
     },
     "execution_count": 37,
     "metadata": {},
     "output_type": "execute_result"
    }
   ],
   "source": [
    "np.divide(a,b)"
   ]
  },
  {
   "cell_type": "code",
   "execution_count": 38,
   "id": "d386ec51",
   "metadata": {},
   "outputs": [
    {
     "name": "stdout",
     "output_type": "stream",
     "text": [
      "(6, 3)\n",
      "(6, 3)\n"
     ]
    }
   ],
   "source": [
    "print(a.shape)\n",
    "print(b.shape)"
   ]
  },
  {
   "cell_type": "markdown",
   "id": "2fda91d1",
   "metadata": {},
   "source": [
    "Here the matrices of both the matrix are the same so the code didnt execute so we need to reshape them and run the code"
   ]
  },
  {
   "cell_type": "code",
   "execution_count": 39,
   "id": "dec0a82a",
   "metadata": {},
   "outputs": [
    {
     "name": "stdout",
     "output_type": "stream",
     "text": [
      "[[20 21 22 23 24 25]\n",
      " [26 27 28 29 30 31]\n",
      " [32 33 34 35 36 37]]\n",
      "[[ 0  1  2]\n",
      " [ 3  4  5]\n",
      " [ 6  7  8]\n",
      " [ 9 10 11]\n",
      " [12 13 14]\n",
      " [15 16 17]]\n"
     ]
    }
   ],
   "source": [
    "b=b.reshape(3,6)\n",
    "print(b)\n",
    "print(a)"
   ]
  },
  {
   "cell_type": "code",
   "execution_count": 40,
   "id": "f35fb458",
   "metadata": {},
   "outputs": [
    {
     "data": {
      "text/plain": [
       "array([[  90,   93,   96,   99,  102,  105],\n",
       "       [ 324,  336,  348,  360,  372,  384],\n",
       "       [ 558,  579,  600,  621,  642,  663],\n",
       "       [ 792,  822,  852,  882,  912,  942],\n",
       "       [1026, 1065, 1104, 1143, 1182, 1221],\n",
       "       [1260, 1308, 1356, 1404, 1452, 1500]])"
      ]
     },
     "execution_count": 40,
     "metadata": {},
     "output_type": "execute_result"
    }
   ],
   "source": [
    "a@b"
   ]
  },
  {
   "cell_type": "code",
   "execution_count": 41,
   "id": "d4797ad1",
   "metadata": {},
   "outputs": [
    {
     "data": {
      "text/plain": [
       "array([[  90,   93,   96,   99,  102,  105],\n",
       "       [ 324,  336,  348,  360,  372,  384],\n",
       "       [ 558,  579,  600,  621,  642,  663],\n",
       "       [ 792,  822,  852,  882,  912,  942],\n",
       "       [1026, 1065, 1104, 1143, 1182, 1221],\n",
       "       [1260, 1308, 1356, 1404, 1452, 1500]])"
      ]
     },
     "execution_count": 41,
     "metadata": {},
     "output_type": "execute_result"
    }
   ],
   "source": [
    "a.dot(b)"
   ]
  },
  {
   "cell_type": "code",
   "execution_count": 42,
   "id": "0acf8e35",
   "metadata": {},
   "outputs": [
    {
     "data": {
      "text/plain": [
       "array([78, 81, 84, 87, 90, 93])"
      ]
     },
     "execution_count": 42,
     "metadata": {},
     "output_type": "execute_result"
    }
   ],
   "source": [
    "b.max()\n",
    "b.min()\n",
    "b.argmax()\n",
    "np.sum(a)\n",
    "np.sum(b)\n",
    "np.sum(a,axis=0)\n",
    "np.sum(b,axis=0)"
   ]
  },
  {
   "cell_type": "code",
   "execution_count": 43,
   "id": "d216daa8",
   "metadata": {},
   "outputs": [
    {
     "data": {
      "text/plain": [
       "np.float64(28.5)"
      ]
     },
     "execution_count": 43,
     "metadata": {},
     "output_type": "execute_result"
    }
   ],
   "source": [
    "np.mean(b)"
   ]
  },
  {
   "cell_type": "code",
   "execution_count": 44,
   "id": "67d02705",
   "metadata": {},
   "outputs": [
    {
     "data": {
      "text/plain": [
       "array([[4.47213595, 4.58257569, 4.69041576, 4.79583152, 4.89897949,\n",
       "        5.        ],\n",
       "       [5.09901951, 5.19615242, 5.29150262, 5.38516481, 5.47722558,\n",
       "        5.56776436],\n",
       "       [5.65685425, 5.74456265, 5.83095189, 5.91607978, 6.        ,\n",
       "        6.08276253]])"
      ]
     },
     "execution_count": 44,
     "metadata": {},
     "output_type": "execute_result"
    }
   ],
   "source": [
    "np.sqrt(b)"
   ]
  },
  {
   "cell_type": "code",
   "execution_count": 45,
   "id": "a3f64ab1",
   "metadata": {},
   "outputs": [
    {
     "data": {
      "text/plain": [
       "np.float64(5.188127472091127)"
      ]
     },
     "execution_count": 45,
     "metadata": {},
     "output_type": "execute_result"
    }
   ],
   "source": [
    "np.std(b)"
   ]
  },
  {
   "cell_type": "code",
   "execution_count": 46,
   "id": "db46e737",
   "metadata": {},
   "outputs": [
    {
     "data": {
      "text/plain": [
       "array([[2.99573227, 3.04452244, 3.09104245, 3.13549422, 3.17805383,\n",
       "        3.21887582],\n",
       "       [3.25809654, 3.29583687, 3.33220451, 3.36729583, 3.40119738,\n",
       "        3.4339872 ],\n",
       "       [3.4657359 , 3.49650756, 3.52636052, 3.55534806, 3.58351894,\n",
       "        3.61091791]])"
      ]
     },
     "execution_count": 46,
     "metadata": {},
     "output_type": "execute_result"
    }
   ],
   "source": [
    "np.log(b)"
   ]
  },
  {
   "cell_type": "code",
   "execution_count": null,
   "id": "86682d32",
   "metadata": {},
   "outputs": [
    {
     "ename": "ValueError",
     "evalue": "cannot reshape array of size 100 into shape (2,5,20)",
     "output_type": "error",
     "traceback": [
      "\u001b[1;31m---------------------------------------------------------------------------\u001b[0m",
      "\u001b[1;31mValueError\u001b[0m                                Traceback (most recent call last)",
      "Cell \u001b[1;32mIn[65], line 2\u001b[0m\n\u001b[0;32m      1\u001b[0m n\u001b[38;5;241m=\u001b[39mnp\u001b[38;5;241m.\u001b[39marange(\u001b[38;5;241m1\u001b[39m,\u001b[38;5;241m101\u001b[39m)\n\u001b[1;32m----> 2\u001b[0m \u001b[43mn\u001b[49m\u001b[38;5;241;43m.\u001b[39;49m\u001b[43mreshape\u001b[49m\u001b[43m(\u001b[49m\u001b[38;5;241;43m2\u001b[39;49m\u001b[43m,\u001b[49m\u001b[38;5;241;43m5\u001b[39;49m\u001b[43m,\u001b[49m\u001b[38;5;241;43m20\u001b[39;49m\u001b[43m)\u001b[49m\n",
      "\u001b[1;31mValueError\u001b[0m: cannot reshape array of size 100 into shape (2,5,20)"
     ]
    }
   ],
   "source": [
    "n=np.arange(1,101)"
   ]
  },
  {
   "cell_type": "code",
   "execution_count": null,
   "id": "76db083f",
   "metadata": {},
   "outputs": [
    {
     "ename": "LinAlgError",
     "evalue": "1-dimensional array given. Array must be at least two-dimensional",
     "output_type": "error",
     "traceback": [
      "\u001b[1;31m---------------------------------------------------------------------------\u001b[0m",
      "\u001b[1;31mLinAlgError\u001b[0m                               Traceback (most recent call last)",
      "Cell \u001b[1;32mIn[60], line 1\u001b[0m\n\u001b[1;32m----> 1\u001b[0m \u001b[43mnp\u001b[49m\u001b[38;5;241;43m.\u001b[39;49m\u001b[43mlinalg\u001b[49m\u001b[38;5;241;43m.\u001b[39;49m\u001b[43minv\u001b[49m\u001b[43m(\u001b[49m\u001b[43mn\u001b[49m\u001b[43m)\u001b[49m\n",
      "File \u001b[1;32m~\\AppData\\Roaming\\Python\\Python311\\site-packages\\numpy\\linalg\\_linalg.py:602\u001b[0m, in \u001b[0;36minv\u001b[1;34m(a)\u001b[0m\n\u001b[0;32m    498\u001b[0m \u001b[38;5;250m\u001b[39m\u001b[38;5;124;03m\"\"\"\u001b[39;00m\n\u001b[0;32m    499\u001b[0m \u001b[38;5;124;03mCompute the inverse of a matrix.\u001b[39;00m\n\u001b[0;32m    500\u001b[0m \n\u001b[1;32m   (...)\u001b[0m\n\u001b[0;32m    599\u001b[0m \n\u001b[0;32m    600\u001b[0m \u001b[38;5;124;03m\"\"\"\u001b[39;00m\n\u001b[0;32m    601\u001b[0m a, wrap \u001b[38;5;241m=\u001b[39m _makearray(a)\n\u001b[1;32m--> 602\u001b[0m \u001b[43m_assert_stacked_2d\u001b[49m\u001b[43m(\u001b[49m\u001b[43ma\u001b[49m\u001b[43m)\u001b[49m\n\u001b[0;32m    603\u001b[0m _assert_stacked_square(a)\n\u001b[0;32m    604\u001b[0m t, result_t \u001b[38;5;241m=\u001b[39m _commonType(a)\n",
      "File \u001b[1;32m~\\AppData\\Roaming\\Python\\Python311\\site-packages\\numpy\\linalg\\_linalg.py:195\u001b[0m, in \u001b[0;36m_assert_stacked_2d\u001b[1;34m(*arrays)\u001b[0m\n\u001b[0;32m    193\u001b[0m \u001b[38;5;28;01mfor\u001b[39;00m a \u001b[38;5;129;01min\u001b[39;00m arrays:\n\u001b[0;32m    194\u001b[0m     \u001b[38;5;28;01mif\u001b[39;00m a\u001b[38;5;241m.\u001b[39mndim \u001b[38;5;241m<\u001b[39m \u001b[38;5;241m2\u001b[39m:\n\u001b[1;32m--> 195\u001b[0m         \u001b[38;5;28;01mraise\u001b[39;00m LinAlgError(\u001b[38;5;124m'\u001b[39m\u001b[38;5;132;01m%d\u001b[39;00m\u001b[38;5;124m-dimensional array given. Array must be \u001b[39m\u001b[38;5;124m'\u001b[39m\n\u001b[0;32m    196\u001b[0m                 \u001b[38;5;124m'\u001b[39m\u001b[38;5;124mat least two-dimensional\u001b[39m\u001b[38;5;124m'\u001b[39m \u001b[38;5;241m%\u001b[39m a\u001b[38;5;241m.\u001b[39mndim)\n",
      "\u001b[1;31mLinAlgError\u001b[0m: 1-dimensional array given. Array must be at least two-dimensional"
     ]
    }
   ],
   "source": [
    "np.linalg.inv(n)"
   ]
  },
  {
   "cell_type": "markdown",
   "id": "9a60f768",
   "metadata": {},
   "source": [
    "# Trignometric funcitons"
   ]
  },
  {
   "cell_type": "code",
   "execution_count": 48,
   "id": "f5fc294c",
   "metadata": {},
   "outputs": [],
   "source": [
    "import matplotlib.pyplot as plt"
   ]
  },
  {
   "cell_type": "code",
   "execution_count": 49,
   "id": "8e692903",
   "metadata": {},
   "outputs": [
    {
     "data": {
      "text/plain": [
       "3.141592653589793"
      ]
     },
     "execution_count": 49,
     "metadata": {},
     "output_type": "execute_result"
    }
   ],
   "source": [
    "np.pi"
   ]
  },
  {
   "cell_type": "code",
   "execution_count": 50,
   "id": "a244f8c6",
   "metadata": {},
   "outputs": [
    {
     "data": {
      "text/plain": [
       "np.float64(1.0)"
      ]
     },
     "execution_count": 50,
     "metadata": {},
     "output_type": "execute_result"
    }
   ],
   "source": [
    "np.sin(np.pi/2)"
   ]
  },
  {
   "cell_type": "code",
   "execution_count": 51,
   "id": "cc86e280",
   "metadata": {},
   "outputs": [
    {
     "data": {
      "text/plain": [
       "np.float64(0.49999999999999994)"
      ]
     },
     "execution_count": 51,
     "metadata": {},
     "output_type": "execute_result"
    }
   ],
   "source": [
    "np.sin(np.pi/6)"
   ]
  },
  {
   "cell_type": "code",
   "execution_count": 52,
   "id": "98bc4940",
   "metadata": {},
   "outputs": [
    {
     "data": {
      "text/plain": [
       "np.float64(6.123233995736766e-17)"
      ]
     },
     "execution_count": 52,
     "metadata": {},
     "output_type": "execute_result"
    }
   ],
   "source": [
    "np.cos(np.pi/2)"
   ]
  },
  {
   "cell_type": "code",
   "execution_count": 52,
   "id": "be823236",
   "metadata": {},
   "outputs": [
    {
     "data": {
      "text/plain": [
       "np.float64(1.633123935319537e+16)"
      ]
     },
     "execution_count": 52,
     "metadata": {},
     "output_type": "execute_result"
    }
   ],
   "source": [
    "np.tan(np.pi/2)"
   ]
  },
  {
   "cell_type": "code",
   "execution_count": 53,
   "id": "4e95a1f8",
   "metadata": {},
   "outputs": [
    {
     "data": {
      "text/plain": [
       "np.float64(0.0)"
      ]
     },
     "execution_count": 53,
     "metadata": {},
     "output_type": "execute_result"
    }
   ],
   "source": [
    "np.tan(0)"
   ]
  },
  {
   "cell_type": "code",
   "execution_count": 54,
   "id": "a87df94c",
   "metadata": {},
   "outputs": [],
   "source": [
    "# Using Matplotlib With Numpy"
   ]
  },
  {
   "cell_type": "code",
   "execution_count": 69,
   "id": "f69453b0",
   "metadata": {},
   "outputs": [
    {
     "data": {
      "image/png": "[encoded data removed]",
      "text/plain": [
       "<Figure size 1000x500 with 1 Axes>"
      ]
     },
     "metadata": {},
     "output_type": "display_data"
    }
   ],
   "source": [
    "x=np.arange(1,11)\n",
    "y=np.arange(10,110,10)\n",
    "\n",
    "plt.figure(figsize=(10,5))\n",
    "plt.plot(x,y,'r--')\n",
    "plt.show()"
   ]
  },
  {
   "cell_type": "code",
   "execution_count": 91,
   "id": "2d150bc3",
   "metadata": {},
   "outputs": [
    {
     "name": "stdout",
     "output_type": "stream",
     "text": [
      "[ 0.          0.09983342  0.19866933  0.29552021  0.38941834  0.47942554\n",
      "  0.56464247  0.64421769  0.71735609  0.78332691  0.84147098  0.89120736\n",
      "  0.93203909  0.96355819  0.98544973  0.99749499  0.9995736   0.99166481\n",
      "  0.97384763  0.94630009  0.90929743  0.86320937  0.8084964   0.74570521\n",
      "  0.67546318  0.59847214  0.51550137  0.42737988  0.33498815  0.23924933\n",
      "  0.14112001  0.04158066 -0.05837414 -0.15774569 -0.2555411  -0.35078323\n",
      " -0.44252044 -0.52983614 -0.61185789 -0.68776616 -0.7568025  -0.81827711\n",
      " -0.87157577 -0.91616594 -0.95160207 -0.97753012 -0.993691   -0.99992326\n",
      " -0.99616461 -0.98245261 -0.95892427 -0.92581468 -0.88345466 -0.83226744\n",
      " -0.77276449 -0.70554033 -0.63126664 -0.55068554 -0.46460218 -0.37387666\n",
      " -0.2794155  -0.1821625  -0.0830894 ]\n"
     ]
    }
   ],
   "source": [
    "xs=np.arange(0,2*np.pi,0.1)\n",
    "ys=np.sin(xs)\n",
    "print(ys)"
   ]
  },
  {
   "cell_type": "code",
   "execution_count": 92,
   "id": "c2e3eda7",
   "metadata": {},
   "outputs": [
    {
     "data": {
      "image/png": "[encoded data removed]",
      "text/plain": [
       "<Figure size 640x480 with 1 Axes>"
      ]
     },
     "metadata": {},
     "output_type": "display_data"
    }
   ],
   "source": [
    "plt.plot(ys,xs)\n",
    "plt.title('Sin Map')\n",
    "plt.show()"
   ]
  },
  {
   "cell_type": "code",
   "execution_count": 93,
   "id": "d71ab1c2",
   "metadata": {},
   "outputs": [
    {
     "name": "stdout",
     "output_type": "stream",
     "text": [
      "[ 1.          0.99500417  0.98006658  0.95533649  0.92106099  0.87758256\n",
      "  0.82533561  0.76484219  0.69670671  0.62160997  0.54030231  0.45359612\n",
      "  0.36235775  0.26749883  0.16996714  0.0707372  -0.02919952 -0.12884449\n",
      " -0.22720209 -0.32328957 -0.41614684 -0.5048461  -0.58850112 -0.66627602\n",
      " -0.73739372 -0.80114362 -0.85688875 -0.90407214 -0.94222234 -0.97095817\n",
      " -0.9899925  -0.99913515 -0.99829478 -0.98747977 -0.96679819 -0.93645669\n",
      " -0.89675842 -0.84810003 -0.79096771 -0.7259323  -0.65364362 -0.57482395\n",
      " -0.49026082 -0.40079917 -0.30733287 -0.2107958  -0.11215253 -0.01238866\n",
      "  0.08749898  0.18651237  0.28366219  0.37797774  0.46851667  0.55437434\n",
      "  0.63469288  0.70866977  0.77556588  0.83471278  0.88551952  0.92747843\n",
      "  0.96017029  0.98326844  0.9965421 ]\n"
     ]
    }
   ],
   "source": [
    "xc=np.arange(0,2*np.pi,0.1)\n",
    "yc=np.cos(xc)\n",
    "print(yc)"
   ]
  },
  {
   "cell_type": "code",
   "execution_count": 94,
   "id": "3a8afe06",
   "metadata": {},
   "outputs": [
    {
     "data": {
      "image/png": "[encoded data removed]",
      "text/plain": [
       "<Figure size 640x480 with 1 Axes>"
      ]
     },
     "metadata": {},
     "output_type": "display_data"
    }
   ],
   "source": [
    "plt.plot(xc,yc)\n",
    "plt.title('Cos Map')\n",
    "plt.show()"
   ]
  },
  {
   "cell_type": "code",
   "execution_count": 95,
   "id": "6d0a028d",
   "metadata": {},
   "outputs": [
    {
     "name": "stdout",
     "output_type": "stream",
     "text": [
      "[ 0.00000000e+00  1.00334672e-01  2.02710036e-01  3.09336250e-01\n",
      "  4.22793219e-01  5.46302490e-01  6.84136808e-01  8.42288380e-01\n",
      "  1.02963856e+00  1.26015822e+00  1.55740772e+00  1.96475966e+00\n",
      "  2.57215162e+00  3.60210245e+00  5.79788372e+00  1.41014199e+01\n",
      " -3.42325327e+01 -7.69660214e+00 -4.28626167e+00 -2.92709751e+00\n",
      " -2.18503986e+00 -1.70984654e+00 -1.37382306e+00 -1.11921364e+00\n",
      " -9.16014290e-01 -7.47022297e-01 -6.01596613e-01 -4.72727629e-01\n",
      " -3.55529832e-01 -2.46405394e-01 -1.42546543e-01 -4.16166546e-02\n",
      "  5.84738545e-02  1.59745748e-01  2.64316901e-01  3.74585640e-01\n",
      "  4.93466730e-01  6.24733075e-01  7.73556091e-01  9.47424650e-01\n",
      "  1.15782128e+00  1.42352648e+00  1.77777977e+00  2.28584788e+00\n",
      "  3.09632378e+00  4.63733205e+00  8.86017490e+00  8.07127630e+01\n",
      " -1.13848707e+01 -5.26749307e+00 -3.38051501e+00 -2.44938942e+00\n",
      " -1.88564188e+00 -1.50127340e+00 -1.21754082e+00 -9.95584052e-01\n",
      " -8.13943284e-01 -6.59730572e-01 -5.24666222e-01 -4.03110900e-01\n",
      " -2.91006191e-01 -1.85262231e-01 -8.33777149e-02]\n"
     ]
    },
    {
     "data": {
      "image/png": "[encoded data removed]",
      "text/plain": [
       "<Figure size 640x480 with 1 Axes>"
      ]
     },
     "metadata": {},
     "output_type": "display_data"
    }
   ],
   "source": [
    "xt=np.arange(0,2*np.pi,0.1)\n",
    "yt=np.tan(xt)\n",
    "print(yt)\n",
    "\n",
    "plt.plot(xt,yt)\n",
    "plt.title('Tan Map')\n",
    "plt.show()"
   ]
  },
  {
   "cell_type": "code",
   "execution_count": 96,
   "id": "e36f1e39",
   "metadata": {},
   "outputs": [
    {
     "name": "stderr",
     "output_type": "stream",
     "text": [
      "C:\\Users\\Kousimon\\AppData\\Local\\Temp\\ipykernel_16752\\2031702275.py:2: RuntimeWarning: divide by zero encountered in divide\n",
      "  yct=1/np.tan(xct)\n"
     ]
    },
    {
     "name": "stdout",
     "output_type": "stream",
     "text": [
      "[            inf  9.96664442e+00  4.93315488e+00  3.23272814e+00\n",
      "  2.36522242e+00  1.83048772e+00  1.46169595e+00  1.18724183e+00\n",
      "  9.71214601e-01  7.93551148e-01  6.42092616e-01  5.08968105e-01\n",
      "  3.88779569e-01  2.77615647e-01  1.72476726e-01  7.09148443e-02\n",
      " -2.92119782e-02 -1.29927464e-01 -2.33303535e-01 -3.41635355e-01\n",
      " -4.57657554e-01 -5.84847806e-01 -7.27895776e-01 -8.93484463e-01\n",
      " -1.09168603e+00 -1.33864813e+00 -1.66224340e+00 -2.11538302e+00\n",
      " -2.81270349e+00 -4.05835272e+00 -7.01525255e+00 -2.40288416e+01\n",
      "  1.71016604e+01  6.25994754e+00  3.78333734e+00  2.66961648e+00\n",
      "  2.02647907e+00  1.60068362e+00  1.29273108e+00  1.05549291e+00\n",
      "  8.63691154e-01  7.02480784e-01  5.62499368e-01  4.37474431e-01\n",
      "  3.22963640e-01  2.15641233e-01  1.12864589e-01  1.23896143e-02\n",
      " -8.78358684e-02 -1.89843629e-01 -2.95812916e-01 -4.08265012e-01\n",
      " -5.30323394e-01 -6.66101193e-01 -8.21327696e-01 -1.00443553e+00\n",
      " -1.22858683e+00 -1.51577029e+00 -1.90597366e+00 -2.48070692e+00\n",
      " -3.43635300e+00 -5.39775429e+00 -1.19936125e+01]\n"
     ]
    },
    {
     "data": {
      "image/png": "[encoded data removed]",
      "text/plain": [
       "<Figure size 640x480 with 1 Axes>"
      ]
     },
     "metadata": {},
     "output_type": "display_data"
    }
   ],
   "source": [
    "xct=np.arange(0,2*np.pi,0.1)\n",
    "yct=1/np.tan(xct)\n",
    "print(yct)\n",
    "\n",
    "plt.plot(xct,yct)\n",
    "plt.title('Cot Map')\n",
    "plt.show()"
   ]
  },
  {
   "cell_type": "markdown",
   "id": "65d7b079",
   "metadata": {},
   "source": [
    "# SubPlot"
   ]
  },
  {
   "cell_type": "code",
   "execution_count": 98,
   "id": "313b5858",
   "metadata": {},
   "outputs": [
    {
     "data": {
      "text/plain": [
       "Text(0.5, 1.0, 'cot Curve')"
      ]
     },
     "execution_count": 98,
     "metadata": {},
     "output_type": "execute_result"
    },
    {
     "data": {
      "image/png": "[encoded data removed]",
      "text/plain": [
       "<Figure size 1000x1000 with 4 Axes>"
      ]
     },
     "metadata": {},
     "output_type": "display_data"
    }
   ],
   "source": [
    "plt.figure(figsize=(10,10))\n",
    "plt.subplot(2,2,1)\n",
    "plt.plot(xs,ys,'b')\n",
    "plt.title('Sin Curve')\n",
    "\n",
    "plt.subplot(2,2,2)\n",
    "plt.plot(xc,yc,'w')\n",
    "plt.title('cos Curve')\n",
    "\n",
    "plt.subplot(2,2,3)\n",
    "plt.plot(xt,yt,'g')\n",
    "plt.title('tan Curve')\n",
    "\n",
    "plt.subplot(2,2,4)\n",
    "plt.plot(xct,yct,'r')\n",
    "plt.title('cot Curve')"
   ]
  },
  {
   "cell_type": "markdown",
   "id": "46c007eb",
   "metadata": {},
   "source": [
    "# Random function"
   ]
  },
  {
   "cell_type": "code",
   "execution_count": 99,
   "id": "17ba027a",
   "metadata": {},
   "outputs": [
    {
     "data": {
      "text/plain": [
       "array([0.73609921])"
      ]
     },
     "execution_count": 99,
     "metadata": {},
     "output_type": "execute_result"
    }
   ],
   "source": [
    "np.random.random(1)"
   ]
  },
  {
   "cell_type": "code",
   "execution_count": 100,
   "id": "1fdb581c",
   "metadata": {},
   "outputs": [
    {
     "data": {
      "text/plain": [
       "array([0.54537052, 0.39961265])"
      ]
     },
     "execution_count": 100,
     "metadata": {},
     "output_type": "execute_result"
    }
   ],
   "source": [
    "np.random.random(2)"
   ]
  },
  {
   "cell_type": "code",
   "execution_count": null,
   "id": "5167938a",
   "metadata": {},
   "outputs": [
    {
     "data": {
      "text/plain": [
       "array([[[0.24098823, 0.08002653],\n",
       "        [0.36798313, 0.16738762],\n",
       "        [0.82866076, 0.70889576]],\n",
       "\n",
       "       [[0.54360627, 0.38165285],\n",
       "        [0.95705229, 0.56554639],\n",
       "        [0.83299581, 0.80913988]]])"
      ]
     },
     "execution_count": 104,
     "metadata": {},
     "output_type": "execute_result"
    }
   ],
   "source": [
    "np.random.random((2,3))"
   ]
  },
  {
   "cell_type": "code",
   "execution_count": 108,
   "id": "2b296f27",
   "metadata": {},
   "outputs": [
    {
     "data": {
      "text/plain": [
       "array([[1, 1],\n",
       "       [9, 4]], dtype=int32)"
      ]
     },
     "execution_count": 108,
     "metadata": {},
     "output_type": "execute_result"
    }
   ],
   "source": [
    "np.random.randint(1,10,(2,2))"
   ]
  },
  {
   "cell_type": "code",
   "execution_count": 113,
   "id": "b11369b3",
   "metadata": {},
   "outputs": [
    {
     "data": {
      "text/plain": [
       "array([[[6, 3, 4, 3],\n",
       "        [4, 1, 5, 2],\n",
       "        [2, 8, 8, 6]],\n",
       "\n",
       "       [[7, 5, 5, 3],\n",
       "        [5, 9, 4, 2],\n",
       "        [5, 4, 8, 9]],\n",
       "\n",
       "       [[4, 6, 4, 5],\n",
       "        [3, 1, 9, 7],\n",
       "        [6, 8, 5, 5]]], dtype=int32)"
      ]
     },
     "execution_count": 113,
     "metadata": {},
     "output_type": "execute_result"
    }
   ],
   "source": [
    "np.random.randint(1,10,(3,3,4))"
   ]
  },
  {
   "cell_type": "code",
   "execution_count": 118,
   "id": "ec385d58",
   "metadata": {},
   "outputs": [
    {
     "data": {
      "text/plain": [
       "array([[-0.88754693,  1.0858559 ],\n",
       "       [ 0.89024133, -0.19282961]])"
      ]
     },
     "execution_count": 118,
     "metadata": {},
     "output_type": "execute_result"
    }
   ],
   "source": [
    "np.random.rand(2,2)\n",
    "np.random.randn(2,2)"
   ]
  },
  {
   "cell_type": "code",
   "execution_count": 119,
   "id": "8c9e675b",
   "metadata": {},
   "outputs": [
    {
     "name": "stdout",
     "output_type": "stream",
     "text": [
      "[1 2 3 4 5 6 7 8 9]\n"
     ]
    }
   ],
   "source": [
    "a=np.arange(1,10)\n",
    "print(a)"
   ]
  },
  {
   "cell_type": "code",
   "execution_count": 120,
   "id": "a9c440e2",
   "metadata": {},
   "outputs": [
    {
     "data": {
      "text/plain": [
       "np.int64(1)"
      ]
     },
     "execution_count": 120,
     "metadata": {},
     "output_type": "execute_result"
    }
   ],
   "source": [
    "np.random.choice(a)"
   ]
  },
  {
   "cell_type": "markdown",
   "id": "8addd0ee",
   "metadata": {},
   "source": [
    "# String Operations"
   ]
  },
  {
   "cell_type": "code",
   "execution_count": 121,
   "id": "9a161d3d",
   "metadata": {},
   "outputs": [],
   "source": [
    "s1='some thing sdkjdfvb'\n",
    "s2='dfkjsdkjbljkbsdjhd jsbdvkjbdfkvbhs jb sb dksj djsdc'"
   ]
  },
  {
   "cell_type": "code",
   "execution_count": null,
   "id": "1f2b3b93",
   "metadata": {},
   "outputs": [
    {
     "data": {
      "text/plain": [
       "np.str_('some thing sdkjdfvbdfkjsdkjbljkbsdjhd jsbdvkjbdfkvbhs jb sb dksj djsdc')"
      ]
     },
     "execution_count": 122,
     "metadata": {},
     "output_type": "execute_result"
    }
   ],
   "source": [
    "np.cahr.add(s1,s2)"
   ]
  },
  {
   "cell_type": "code",
   "execution_count": 124,
   "id": "92d7722f",
   "metadata": {},
   "outputs": [
    {
     "data": {
      "text/plain": [
       "array('dfkjsdkjbljkbsdjhd jsbdvkjbdfkvbhs jb sb dksj djsdc', dtype='<U51')"
      ]
     },
     "execution_count": 124,
     "metadata": {},
     "output_type": "execute_result"
    }
   ],
   "source": [
    "np.char.lower(s2)"
   ]
  },
  {
   "cell_type": "code",
   "execution_count": 125,
   "id": "20c33ddb",
   "metadata": {},
   "outputs": [
    {
     "data": {
      "text/plain": [
       "array('SOME THING SDKJDFVB', dtype='<U19')"
      ]
     },
     "execution_count": 125,
     "metadata": {},
     "output_type": "execute_result"
    }
   ],
   "source": [
    "np.char.upper(s1)"
   ]
  },
  {
   "cell_type": "code",
   "execution_count": 126,
   "id": "536aed1d",
   "metadata": {},
   "outputs": [
    {
     "data": {
      "text/plain": [
       "array(list(['some', 'thing', 'sdkjdfvb']), dtype=object)"
      ]
     },
     "execution_count": 126,
     "metadata": {},
     "output_type": "execute_result"
    }
   ],
   "source": [
    "np.char.split(s1)"
   ]
  },
  {
   "cell_type": "code",
   "execution_count": 129,
   "id": "95ac08e7",
   "metadata": {},
   "outputs": [
    {
     "data": {
      "text/plain": [
       "array(list(['jndskjbkjb dkb kjdb khdb khbd \\\\kfhbdkh fbk\\\\h bkhd bhkdb khbd vsjbd']),\n",
       "      dtype=object)"
      ]
     },
     "execution_count": 129,
     "metadata": {},
     "output_type": "execute_result"
    }
   ],
   "source": [
    "s3='jndskjbkjb dkb kjdb khdb khbd \\kfhbdkh fbk\\h bkhd bhkdb khbd vsjbd'\n",
    "np.char.splitlines(s3)"
   ]
  },
  {
   "cell_type": "code",
   "execution_count": 130,
   "id": "d03279c1",
   "metadata": {},
   "outputs": [
    {
     "data": {
      "text/plain": [
       "array('any thing sdkjdfvb', dtype='<U18')"
      ]
     },
     "execution_count": 130,
     "metadata": {},
     "output_type": "execute_result"
    }
   ],
   "source": [
    "np.char.replace(s1,'some','any')"
   ]
  },
  {
   "cell_type": "code",
   "execution_count": 131,
   "id": "dccaa006",
   "metadata": {},
   "outputs": [
    {
     "name": "stdout",
     "output_type": "stream",
     "text": [
      "************************good bye**************************\n"
     ]
    }
   ],
   "source": [
    "print(\"************************good bye**************************\")"
   ]
  },
  {
   "cell_type": "code",
   "execution_count": null,
   "id": "40d94833",
   "metadata": {},
   "outputs": [
    {
     "name": "stdout",
     "output_type": "stream",
     "text": [
      "$$$$$$$$$$$$$$$$$$$$$$$$$$$$$$$$$$$$$$$$good bye$$$$$$$$$$$$$$$$$$$$$$$$$$$$$$$$$$$$$$$$\n"
     ]
    }
   ],
   "source": [
    "\n",
    "print(np.char.center('good bye',88,'$'))"
   ]
  },
  {
   "cell_type": "code",
   "execution_count": null,
   "id": "1042e25a",
   "metadata": {},
   "outputs": [
    {
     "ename": "IndexError",
     "evalue": "index 100 is out of bounds for axis 0 with size 0",
     "output_type": "error",
     "traceback": [
      "\u001b[1;31m---------------------------------------------------------------------------\u001b[0m",
      "\u001b[1;31mIndexError\u001b[0m                                Traceback (most recent call last)",
      "Cell \u001b[1;32mIn[80], line 2\u001b[0m\n\u001b[0;32m      1\u001b[0m \u001b[38;5;28;01mimport\u001b[39;00m \u001b[38;5;21;01mrandom\u001b[39;00m \n\u001b[1;32m----> 2\u001b[0m \u001b[43ma\u001b[49m\u001b[43m[\u001b[49m\u001b[38;5;241;43m100\u001b[39;49m\u001b[43m]\u001b[49m\u001b[38;5;241m=\u001b[39mnp\u001b[38;5;241m.\u001b[39marray([])\n\u001b[0;32m      3\u001b[0m \u001b[38;5;28;01mfor\u001b[39;00m i \u001b[38;5;129;01min\u001b[39;00m \u001b[38;5;28mrange\u001b[39m(\u001b[38;5;241m100\u001b[39m):\n\u001b[0;32m      4\u001b[0m     a[i]\u001b[38;5;241m=\u001b[39mrandom\u001b[38;5;241m.\u001b[39mrandint(\u001b[38;5;241m1\u001b[39m,\u001b[38;5;241m100\u001b[39m)\n",
      "\u001b[1;31mIndexError\u001b[0m: index 100 is out of bounds for axis 0 with size 0"
     ]
    }
   ],
   "source": []
  },
  {
   "cell_type": "code",
   "execution_count": null,
   "id": "3483df85",
   "metadata": {},
   "outputs": [],
   "source": [
    "\n"
   ]
  }
 ],
 "metadata": {
  "kernelspec": {
   "display_name": "Python 3",
   "language": "python",
   "name": "python3"
  },
  "language_info": {
   "codemirror_mode": {
    "name": "ipython",
    "version": 3
   },
   "file_extension": ".py",
   "mimetype": "text/x-python",
   "name": "python",
   "nbconvert_exporter": "python",
   "pygments_lexer": "ipython3",
   "version": "3.11.3"
  }
 },
 "nbformat": 4,
 "nbformat_minor": 5
}
